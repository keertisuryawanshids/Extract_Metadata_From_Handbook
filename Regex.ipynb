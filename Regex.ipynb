{
 "cells": [
  {
   "cell_type": "markdown",
   "metadata": {},
   "source": [
    "Extracted Data from pdf with using Pymupdf and then extracting it using the regex"
   ]
  },
  {
   "cell_type": "code",
   "execution_count": 7,
   "metadata": {},
   "outputs": [
    {
     "name": "stdout",
     "output_type": "stream",
     "text": [
      "Extracted Text from Page 10:\n",
      "\n",
      "10 \n",
      " \n",
      "B290 Global Strategy \n",
      "B.Sc./B.Ed. \n",
      "ECTS-Credits \n",
      "6 \n",
      "Workload Hours \n",
      "Contact Hours: 60 \n",
      "Independent Study: 120 \n",
      "Duration \n",
      "1 Semester \n",
      "Cycle \n",
      "WS \n",
      "Language \n",
      "English \n",
      "Course Type / Learning \n",
      "Methods \n",
      "lecture (2 SWS) tutorial (2 SWS) / independent study, oral participation \n",
      "Method of Assessment \n",
      "Course Work \n",
      "Prerequisites \n",
      "written exam (90 minutes) \n",
      "Group presentation \n",
      "--- \n",
      "Person Responsible \n",
      "Prof. Dr. Markus Pudelko \n",
      " \n",
      "Content \n",
      "This module will discuss challenges of strategic relevance to a company and responses to address those \n",
      "challenges from the perspective of a multinational company's top management. Topics presented include: \n",
      "a) the industry-based view of strategy \n",
      "b) the resource-based view of strategy \n",
      "c) the institution-based view of strategy. \n",
      "Objectives \n",
      "In this module, students learn to identify and understand decisions of strategic relevance to a company on a \n",
      "global level. Students will learn to describe and evaluate a firm’s corporate strategy and on this basis develop \n",
      "solutions for strategic dilemmas in real-life case studies. \n",
      " \n",
      " \n",
      "\n"
     ]
    }
   ],
   "source": [
    "import fitz  # PyMuPDF\n",
    "\n",
    "# Function to extract text from a specific page of the PDF\n",
    "def extract_text_from_pdf(pdf_path, page_number=11):\n",
    "    doc = fitz.open(pdf_path)\n",
    "    if page_number - 1 < len(doc):  # Ensure the page exists\n",
    "        text = doc[page_number - 1].get_text(\"text\")\n",
    "        return text\n",
    "    else:\n",
    "        return \"Error: Page number exceeds the document length.\"\n",
    "\n",
    "# Load PDF file\n",
    "pdf_path = \"231121_International_Module_Handbook.pdf\"  # Change to your actual PDF file path\n",
    "\n",
    "# Extract text from page 10\n",
    "page_text = extract_text_from_pdf(pdf_path, page_number=11)\n",
    "\n",
    "# Print extracted text\n",
    "print(\"Extracted Text from Page 10:\\n\")\n",
    "print(page_text)\n"
   ]
  },
  {
   "cell_type": "code",
   "execution_count": 9,
   "metadata": {},
   "outputs": [
    {
     "name": "stdout",
     "output_type": "stream",
     "text": [
      "Course Name: B290 Global Strategy \n",
      "B\n",
      "ECTS-Credits: 6\n",
      "Duration: 1 Semester \n",
      "Cycle \n",
      "WS \n",
      "Language \n",
      "English \n",
      "Course Type\n",
      "Language: English \n",
      "Course Type\n",
      "Person Responsible: Prof. Dr. Markus Pudelko \n",
      " \n",
      "Content \n",
      "This module will discuss challenges of strategic relevance to a company and responses to address those \n",
      "challenges from the perspective of a multinational company\n"
     ]
    }
   ],
   "source": [
    "import re\n",
    "\n",
    "# Function to extract metadata using regex\n",
    "def extract_metadata(page_text):\n",
    "    metadata = {}\n",
    "\n",
    "    # Extract Course Name (Pattern: Starts with a letter, then numbers, then words)\n",
    "    course_name_match = re.search(r\"([A-Za-z]\\d{2,}\\s+[A-Za-z\\s]+)\", page_text)\n",
    "    metadata[\"Course Name\"] = course_name_match.group(1) if course_name_match else None\n",
    "\n",
    "    # Extract ECTS-Credits (Number following \"ECTS-Credits\")\n",
    "    credits_match = re.search(r\"ECTS-Credits\\s*(\\d+)\", page_text)\n",
    "    metadata[\"ECTS-Credits\"] = credits_match.group(1) if credits_match else None\n",
    "\n",
    "    # Extract Duration (Number of semesters)\n",
    "    duration_match = re.search(r\"Duration\\s*([\\w\\s]+)\", page_text)\n",
    "    metadata[\"Duration\"] = duration_match.group(1).strip() if duration_match else None\n",
    "\n",
    "    # Extract Language\n",
    "    language_match = re.search(r\"Language\\s*([\\w\\s]+)\", page_text)\n",
    "    metadata[\"Language\"] = language_match.group(1).strip() if language_match else None\n",
    "\n",
    "    # Extract Person Responsible\n",
    "    professor_match = re.search(r\"Person Responsible\\s*([\\w\\s.]+)\", page_text)\n",
    "    metadata[\"Person Responsible\"] = professor_match.group(1).strip() if professor_match else None\n",
    "\n",
    "    return metadata\n",
    "\n",
    "# Extract metadata\n",
    "extracted_data = extract_metadata(page_text)\n",
    "\n",
    "# Display extracted information\n",
    "for key, value in extracted_data.items():\n",
    "    print(f\"{key}: {value}\")"
   ]
  },
  {
   "cell_type": "code",
   "execution_count": null,
   "metadata": {},
   "outputs": [],
   "source": []
  }
 ],
 "metadata": {
  "kernelspec": {
   "display_name": "base",
   "language": "python",
   "name": "python3"
  },
  "language_info": {
   "codemirror_mode": {
    "name": "ipython",
    "version": 3
   },
   "file_extension": ".py",
   "mimetype": "text/x-python",
   "name": "python",
   "nbconvert_exporter": "python",
   "pygments_lexer": "ipython3",
   "version": "3.12.4"
  }
 },
 "nbformat": 4,
 "nbformat_minor": 2
}
